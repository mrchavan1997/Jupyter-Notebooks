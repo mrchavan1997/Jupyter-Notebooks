{
 "cells": [
  {
   "cell_type": "code",
   "execution_count": 3,
   "metadata": {},
   "outputs": [],
   "source": [
    "import tensorflow as tf\n",
    "from tensorflow import keras\n",
    "import matplotlib.pyplot as plt\n",
    "import numpy as np"
   ]
  },
  {
   "cell_type": "code",
   "execution_count": 4,
   "metadata": {},
   "outputs": [
    {
     "name": "stdout",
     "output_type": "stream",
     "text": [
      "Downloading data from https://www.cs.toronto.edu/~kriz/cifar-10-python.tar.gz\n",
      "170500096/170498071 [==============================] - 123s 1us/step\n",
      "170508288/170498071 [==============================] - 123s 1us/step\n"
     ]
    }
   ],
   "source": [
    "(x_train, y_train), (x_Test, y_test) = keras.datasets.cifar10.load_data()"
   ]
  },
  {
   "cell_type": "code",
   "execution_count": 5,
   "metadata": {},
   "outputs": [
    {
     "data": {
      "text/plain": [
       "(50000, 32, 32, 3)"
      ]
     },
     "execution_count": 5,
     "metadata": {},
     "output_type": "execute_result"
    }
   ],
   "source": [
    "x_train.shape"
   ]
  },
  {
   "cell_type": "code",
   "execution_count": 12,
   "metadata": {},
   "outputs": [
    {
     "data": {
      "text/plain": [
       "(50000, 1)"
      ]
     },
     "execution_count": 12,
     "metadata": {},
     "output_type": "execute_result"
    }
   ],
   "source": [
    "y_train.shape"
   ]
  },
  {
   "cell_type": "code",
   "execution_count": 17,
   "metadata": {},
   "outputs": [
    {
     "data": {
      "text/plain": [
       "<matplotlib.image.AxesImage at 0x2b621adb520>"
      ]
     },
     "execution_count": 17,
     "metadata": {},
     "output_type": "execute_result"
    },
    {
     "data": {
      "image/png": "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\n",
      "text/plain": [
       "<Figure size 432x288 with 1 Axes>"
      ]
     },
     "metadata": {
      "needs_background": "light"
     },
     "output_type": "display_data"
    }
   ],
   "source": [
    "plt.imshow(x_train[2])"
   ]
  },
  {
   "cell_type": "code",
   "execution_count": 18,
   "metadata": {},
   "outputs": [],
   "source": [
    "classes = ['airplane','automobile','bird','cat','deer','dog','frog','horse','ship','truck']"
   ]
  },
  {
   "cell_type": "code",
   "execution_count": 20,
   "metadata": {},
   "outputs": [
    {
     "data": {
      "text/plain": [
       "'truck'"
      ]
     },
     "execution_count": 20,
     "metadata": {},
     "output_type": "execute_result"
    }
   ],
   "source": [
    "classes[y_train[2][0]]"
   ]
  },
  {
   "cell_type": "code",
   "execution_count": 21,
   "metadata": {},
   "outputs": [
    {
     "data": {
      "text/plain": [
       "9"
      ]
     },
     "execution_count": 21,
     "metadata": {},
     "output_type": "execute_result"
    }
   ],
   "source": [
    "y_train[2][0]"
   ]
  },
  {
   "cell_type": "code",
   "execution_count": 22,
   "metadata": {},
   "outputs": [
    {
     "data": {
      "text/plain": [
       "3072"
      ]
     },
     "execution_count": 22,
     "metadata": {},
     "output_type": "execute_result"
    }
   ],
   "source": [
    "32*32*3"
   ]
  },
  {
   "cell_type": "code",
   "execution_count": 27,
   "metadata": {},
   "outputs": [],
   "source": [
    "y_train_cat = keras.utils.to_categorical(\n",
    "    y_train, num_classes = 10\n",
    ")"
   ]
  },
  {
   "cell_type": "code",
   "execution_count": 28,
   "metadata": {},
   "outputs": [
    {
     "data": {
      "text/plain": [
       "array([[0., 0., 0., ..., 0., 0., 0.],\n",
       "       [0., 0., 0., ..., 0., 0., 1.],\n",
       "       [0., 0., 0., ..., 0., 0., 1.],\n",
       "       ...,\n",
       "       [0., 0., 0., ..., 0., 0., 1.],\n",
       "       [0., 1., 0., ..., 0., 0., 0.],\n",
       "       [0., 1., 0., ..., 0., 0., 0.]], dtype=float32)"
      ]
     },
     "execution_count": 28,
     "metadata": {},
     "output_type": "execute_result"
    }
   ],
   "source": [
    "y_train_cat"
   ]
  },
  {
   "cell_type": "code",
   "execution_count": null,
   "metadata": {},
   "outputs": [],
   "source": [
    "y_test_cat = keras.utils.to_categorical(\n",
    "    y_test, num_classes = 10\n",
    ")"
   ]
  },
  {
   "cell_type": "code",
   "execution_count": 33,
   "metadata": {},
   "outputs": [],
   "source": [
    "x_train_scaled = x_train/255\n",
    "x_test_scaled = x_Test/255"
   ]
  },
  {
   "cell_type": "code",
   "execution_count": 36,
   "metadata": {},
   "outputs": [
    {
     "data": {
      "text/plain": [
       "array([[[0.60392157, 0.69411765, 0.73333333],\n",
       "        [0.49411765, 0.5372549 , 0.53333333],\n",
       "        [0.41176471, 0.40784314, 0.37254902],\n",
       "        ...,\n",
       "        [0.35686275, 0.37254902, 0.27843137],\n",
       "        [0.34117647, 0.35294118, 0.27843137],\n",
       "        [0.30980392, 0.31764706, 0.2745098 ]],\n",
       "\n",
       "       [[0.54901961, 0.62745098, 0.6627451 ],\n",
       "        [0.56862745, 0.6       , 0.60392157],\n",
       "        [0.49019608, 0.49019608, 0.4627451 ],\n",
       "        ...,\n",
       "        [0.37647059, 0.38823529, 0.30588235],\n",
       "        [0.30196078, 0.31372549, 0.24313725],\n",
       "        [0.27843137, 0.28627451, 0.23921569]],\n",
       "\n",
       "       [[0.54901961, 0.60784314, 0.64313725],\n",
       "        [0.54509804, 0.57254902, 0.58431373],\n",
       "        [0.45098039, 0.45098039, 0.43921569],\n",
       "        ...,\n",
       "        [0.30980392, 0.32156863, 0.25098039],\n",
       "        [0.26666667, 0.2745098 , 0.21568627],\n",
       "        [0.2627451 , 0.27058824, 0.21568627]],\n",
       "\n",
       "       ...,\n",
       "\n",
       "       [[0.68627451, 0.65490196, 0.65098039],\n",
       "        [0.61176471, 0.60392157, 0.62745098],\n",
       "        [0.60392157, 0.62745098, 0.66666667],\n",
       "        ...,\n",
       "        [0.16470588, 0.13333333, 0.14117647],\n",
       "        [0.23921569, 0.20784314, 0.22352941],\n",
       "        [0.36470588, 0.3254902 , 0.35686275]],\n",
       "\n",
       "       [[0.64705882, 0.60392157, 0.50196078],\n",
       "        [0.61176471, 0.59607843, 0.50980392],\n",
       "        [0.62352941, 0.63137255, 0.55686275],\n",
       "        ...,\n",
       "        [0.40392157, 0.36470588, 0.37647059],\n",
       "        [0.48235294, 0.44705882, 0.47058824],\n",
       "        [0.51372549, 0.4745098 , 0.51372549]],\n",
       "\n",
       "       [[0.63921569, 0.58039216, 0.47058824],\n",
       "        [0.61960784, 0.58039216, 0.47843137],\n",
       "        [0.63921569, 0.61176471, 0.52156863],\n",
       "        ...,\n",
       "        [0.56078431, 0.52156863, 0.54509804],\n",
       "        [0.56078431, 0.5254902 , 0.55686275],\n",
       "        [0.56078431, 0.52156863, 0.56470588]]])"
      ]
     },
     "execution_count": 36,
     "metadata": {},
     "output_type": "execute_result"
    }
   ],
   "source": [
    "x_train_scaled[1]"
   ]
  },
  {
   "cell_type": "code",
   "execution_count": 35,
   "metadata": {},
   "outputs": [
    {
     "name": "stdout",
     "output_type": "stream",
     "text": [
      "Epoch 1/50\n",
      "1563/1563 [==============================] - 91s 40ms/step - loss: 1.8360 - accuracy: 0.3477\n",
      "Epoch 2/50\n",
      "1563/1563 [==============================] - 65s 41ms/step - loss: 1.6522 - accuracy: 0.4196\n",
      "Epoch 3/50\n",
      "1563/1563 [==============================] - 63s 40ms/step - loss: 1.5758 - accuracy: 0.4466\n",
      "Epoch 4/50\n",
      "1563/1563 [==============================] - 62s 40ms/step - loss: 1.5215 - accuracy: 0.4677\n",
      "Epoch 5/50\n",
      "1563/1563 [==============================] - 62s 40ms/step - loss: 1.4786 - accuracy: 0.4853\n",
      "Epoch 6/50\n",
      "1563/1563 [==============================] - 62s 40ms/step - loss: 1.4407 - accuracy: 0.4952\n",
      "Epoch 7/50\n",
      "1563/1563 [==============================] - 63s 40ms/step - loss: 1.4077 - accuracy: 0.5094\n",
      "Epoch 8/50\n",
      "1563/1563 [==============================] - 63s 41ms/step - loss: 1.3768 - accuracy: 0.5209\n",
      "Epoch 9/50\n",
      "1563/1563 [==============================] - 69s 44ms/step - loss: 1.3528 - accuracy: 0.5292\n",
      "Epoch 10/50\n",
      "1563/1563 [==============================] - 64s 41ms/step - loss: 1.3260 - accuracy: 0.5381\n",
      "Epoch 11/50\n",
      "1563/1563 [==============================] - 62s 40ms/step - loss: 1.3047 - accuracy: 0.5462\n",
      "Epoch 12/50\n",
      "1563/1563 [==============================] - 62s 40ms/step - loss: 1.2799 - accuracy: 0.5558\n",
      "Epoch 13/50\n",
      "1563/1563 [==============================] - 63s 40ms/step - loss: 1.2598 - accuracy: 0.5630\n",
      "Epoch 14/50\n",
      "1563/1563 [==============================] - 64s 41ms/step - loss: 1.2410 - accuracy: 0.5690\n",
      "Epoch 15/50\n",
      "1563/1563 [==============================] - 63s 40ms/step - loss: 1.2184 - accuracy: 0.5755\n",
      "Epoch 16/50\n",
      "1563/1563 [==============================] - 63s 40ms/step - loss: 1.2036 - accuracy: 0.5827\n",
      "Epoch 17/50\n",
      "1563/1563 [==============================] - 63s 40ms/step - loss: 1.1842 - accuracy: 0.5887\n",
      "Epoch 18/50\n",
      "1563/1563 [==============================] - 62s 40ms/step - loss: 1.1666 - accuracy: 0.5950\n",
      "Epoch 19/50\n",
      "1563/1563 [==============================] - 64s 41ms/step - loss: 1.1498 - accuracy: 0.6001\n",
      "Epoch 20/50\n",
      "1563/1563 [==============================] - 62s 40ms/step - loss: 1.1320 - accuracy: 0.6069\n",
      "Epoch 21/50\n",
      "1563/1563 [==============================] - 62s 40ms/step - loss: 1.1156 - accuracy: 0.6149\n",
      "Epoch 22/50\n",
      "1563/1563 [==============================] - 61s 39ms/step - loss: 1.0992 - accuracy: 0.6196\n",
      "Epoch 23/50\n",
      "1563/1563 [==============================] - 58s 37ms/step - loss: 1.0817 - accuracy: 0.6273\n",
      "Epoch 24/50\n",
      "1563/1563 [==============================] - 58s 37ms/step - loss: 1.0682 - accuracy: 0.6306\n",
      "Epoch 25/50\n",
      "1563/1563 [==============================] - 59s 38ms/step - loss: 1.0514 - accuracy: 0.6384\n",
      "Epoch 26/50\n",
      "1563/1563 [==============================] - 58s 37ms/step - loss: 1.0356 - accuracy: 0.6441\n",
      "Epoch 27/50\n",
      "1563/1563 [==============================] - 58s 37ms/step - loss: 1.0228 - accuracy: 0.6464\n",
      "Epoch 28/50\n",
      "1563/1563 [==============================] - 58s 37ms/step - loss: 1.0034 - accuracy: 0.6537\n",
      "Epoch 29/50\n",
      "1563/1563 [==============================] - 58s 37ms/step - loss: 0.9916 - accuracy: 0.6584\n",
      "Epoch 30/50\n",
      "1563/1563 [==============================] - 58s 37ms/step - loss: 0.9759 - accuracy: 0.6660\n",
      "Epoch 31/50\n",
      "1563/1563 [==============================] - 60s 38ms/step - loss: 0.9596 - accuracy: 0.6704\n",
      "Epoch 32/50\n",
      "1563/1563 [==============================] - 58s 37ms/step - loss: 0.9472 - accuracy: 0.6742\n",
      "Epoch 33/50\n",
      "1563/1563 [==============================] - 58s 37ms/step - loss: 0.9341 - accuracy: 0.6795\n",
      "Epoch 34/50\n",
      "1563/1563 [==============================] - 58s 37ms/step - loss: 0.9175 - accuracy: 0.6858\n",
      "Epoch 35/50\n",
      "1563/1563 [==============================] - 58s 37ms/step - loss: 0.9042 - accuracy: 0.6900\n",
      "Epoch 36/50\n",
      "1563/1563 [==============================] - 58s 37ms/step - loss: 0.8882 - accuracy: 0.6984\n",
      "Epoch 37/50\n",
      "1563/1563 [==============================] - 59s 38ms/step - loss: 0.8739 - accuracy: 0.7013\n",
      "Epoch 38/50\n",
      "1563/1563 [==============================] - 59s 38ms/step - loss: 0.8572 - accuracy: 0.7064\n",
      "Epoch 39/50\n",
      "1563/1563 [==============================] - 62s 40ms/step - loss: 0.8457 - accuracy: 0.7093\n",
      "Epoch 40/50\n",
      "1563/1563 [==============================] - 62s 39ms/step - loss: 0.8336 - accuracy: 0.7171\n",
      "Epoch 41/50\n",
      "1563/1563 [==============================] - 60s 38ms/step - loss: 0.8190 - accuracy: 0.7216\n",
      "Epoch 42/50\n",
      "1563/1563 [==============================] - ETA: 0s - loss: 0.8059 - accuracy: 0.72 - 59s 38ms/step - loss: 0.8059 - accuracy: 0.7270\n",
      "Epoch 43/50\n",
      "1563/1563 [==============================] - 59s 37ms/step - loss: 0.7904 - accuracy: 0.7325\n",
      "Epoch 44/50\n",
      "1563/1563 [==============================] - 59s 38ms/step - loss: 0.7775 - accuracy: 0.7379\n",
      "Epoch 45/50\n",
      "1563/1563 [==============================] - 59s 38ms/step - loss: 0.7650 - accuracy: 0.7437\n",
      "Epoch 46/50\n",
      "1563/1563 [==============================] - 58s 37ms/step - loss: 0.7521 - accuracy: 0.7465\n",
      "Epoch 47/50\n",
      "1563/1563 [==============================] - 59s 38ms/step - loss: 0.7379 - accuracy: 0.7524\n",
      "Epoch 48/50\n",
      "1563/1563 [==============================] - 59s 38ms/step - loss: 0.7237 - accuracy: 0.7584\n",
      "Epoch 49/50\n",
      "1563/1563 [==============================] - 58s 37ms/step - loss: 0.7096 - accuracy: 0.7633\n",
      "Epoch 50/50\n",
      "1563/1563 [==============================] - 60s 38ms/step - loss: 0.6983 - accuracy: 0.7673\n"
     ]
    },
    {
     "data": {
      "text/plain": [
       "<keras.callbacks.History at 0x2b62987a970>"
      ]
     },
     "execution_count": 35,
     "metadata": {},
     "output_type": "execute_result"
    }
   ],
   "source": [
    "model = keras.Sequential([\n",
    "    keras.layers.Flatten(input_shape = (32,32,3)),\n",
    "    keras.layers.Dense(3000, activation = 'relu'),\n",
    "    keras.layers.Dense(10, activation = 'sigmoid')\n",
    "])\n",
    "\n",
    "model.compile(\n",
    "    optimizer = 'SGD',\n",
    "    loss = 'categorical_crossentropy',\n",
    "    metrics = ['accuracy']\n",
    ")\n",
    "\n",
    "model.fit(x_train_scaled, y_train_cat, epochs = 50)"
   ]
  },
  {
   "cell_type": "code",
   "execution_count": 43,
   "metadata": {},
   "outputs": [
    {
     "data": {
      "text/plain": [
       "0"
      ]
     },
     "execution_count": 43,
     "metadata": {},
     "output_type": "execute_result"
    }
   ],
   "source": [
    "np.argmax(model.predict(x_test_scaled)[2])"
   ]
  },
  {
   "cell_type": "code",
   "execution_count": 44,
   "metadata": {},
   "outputs": [
    {
     "data": {
      "text/plain": [
       "'airplane'"
      ]
     },
     "execution_count": 44,
     "metadata": {},
     "output_type": "execute_result"
    }
   ],
   "source": [
    "classes[0]"
   ]
  },
  {
   "cell_type": "code",
   "execution_count": 47,
   "metadata": {},
   "outputs": [],
   "source": [
    "def get_model():\n",
    "    model = keras.Sequential([\n",
    "        keras.layers.Flatten(input_shape = (32,32,3)),\n",
    "        keras.layers.Dense(3000, activation = 'relu'),\n",
    "        keras.layers.Dense(10, activation = 'sigmoid')\n",
    "    ])\n",
    "\n",
    "    model.compile(\n",
    "        optimizer = 'SGD',\n",
    "        loss = 'categorical_crossentropy',\n",
    "        metrics = ['accuracy']\n",
    "    )\n",
    "    return model"
   ]
  },
  {
   "cell_type": "code",
   "execution_count": 56,
   "metadata": {
    "scrolled": true
   },
   "outputs": [
    {
     "name": "stdout",
     "output_type": "stream",
     "text": [
      "1563/1563 [==============================] - 72s 45ms/step - loss: 1.8292 - accuracy: 0.3511\n",
      
     ]
    }
   ],
   "source": [
    "%%timeit -n1 -r1\n",
    "with tf.device('/GPU:0'):\n",
    "    gpu_model = get_model()\n",
    "    gpu_model.fit(x_train_scaled, y_train_cat, epochs = 1)"
   ]
  },
  {
   "cell_type": "code",
   "execution_count": 54,
   "metadata": {},
   "outputs": [
    {
     "name": "stdout",
     "output_type": "stream",
     "text": [
      "1563/1563 [==============================] - 63s 40ms/step - loss: 1.8332 - accuracy: 0.3499\n",
      
     ]
    }
   ],
   "source": [
    "%%timeit -n1 -r1\n",
    "with tf.device('/CPU:0'):\n",
    "    cpu_model = get_model()\n",
    "    cpu_model.fit(x_train_scaled, y_train_cat, epochs = 1)"
   ]
  },
  {
   "cell_type": "code",
   "execution_count": null,
   "metadata": {},
   "outputs": [],
   "source": []
  },
  {
   "cell_type": "code",
   "execution_count": null,
   "metadata": {},
   "outputs": [],
   "source": []
  },
  {
   "cell_type": "code",
   "execution_count": 63,
   "metadata": {},
   "outputs": [],
   "source": [
    "(x_train, y_train), (x_test, y_test) = tf.keras.datasets.fashion_mnist.load_data()"
   ]
  },
  {
   "cell_type": "code",
   "execution_count": 59,
   "metadata": {},
   "outputs": [
    {
     "data": {
      "text/plain": [
       "array([  0,   0,   0,   1,   0,   0,   0,  49, 136, 219, 216, 228, 236,\n",
       "       255, 255, 255, 255, 217, 215, 254, 231, 160,  45,   0,   0,   0,\n",
       "         0,   0], dtype=uint8)"
      ]
     },
     "execution_count": 59,
     "metadata": {},
     "output_type": "execute_result"
    }
   ],
   "source": [
    "x_train[1][1]"
   ]
  },
  {
   "cell_type": "code",
   "execution_count": 60,
   "metadata": {},
   "outputs": [
    {
     "data": {
      "text/plain": [
       "(60000, 28, 28)"
      ]
     },
     "execution_count": 60,
     "metadata": {},
     "output_type": "execute_result"
    }
   ],
   "source": [
    "x_train.shape"
   ]
  },
  {
   "cell_type": "code",
   "execution_count": 61,
   "metadata": {},
   "outputs": [
    {
     "data": {
      "text/plain": [
       "array([9, 0, 0, ..., 3, 0, 5], dtype=uint8)"
      ]
     },
     "execution_count": 61,
     "metadata": {},
     "output_type": "execute_result"
    }
   ],
   "source": [
    "y_train"
   ]
  },
  {
   "cell_type": "code",
   "execution_count": 64,
   "metadata": {},
   "outputs": [],
   "source": [
    "x_train_scaled = x_train/255\n",
    "x_test_scaled = x_test/255"
   ]
  },
  {
   "cell_type": "code",
   "execution_count": 65,
   "metadata": {},
   "outputs": [],
   "source": [
    "model = keras.Sequential([\n",
    "    keras.layers.Flatten(input_shape = (28,28)),\n",
    "    keras.layers.Dense(1500, activation = 'relu'),\n",
    "    keras.layers.Dense(10, activation = 'sigmoid')\n",
    "])\n",
    "\n",
    "model.compile(\n",
    "    optimizer = 'adam',\n",
    "    loss = 'sparse_categorical_crossentropy',\n",
    "    metrics = ['accuracy']\n",
    ")"
   ]
  },
  {
   "cell_type": "code",
   "execution_count": 66,
   "metadata": {},
   "outputs": [
    {
     "name": "stdout",
     "output_type": "stream",
     "text": [
      "Epoch 1/50\n",
      "1875/1875 [==============================] - 19s 10ms/step - loss: 0.4699 - accuracy: 0.8313\n",
      "Epoch 2/50\n",
      "1875/1875 [==============================] - 18s 10ms/step - loss: 0.3578 - accuracy: 0.8681\n",
      "Epoch 3/50\n",
      "1875/1875 [==============================] - 18s 10ms/step - loss: 0.3203 - accuracy: 0.8823\n",
      "Epoch 4/50\n",
      "1875/1875 [==============================] - 18s 10ms/step - loss: 0.2952 - accuracy: 0.8903\n",
      "Epoch 5/50\n",
      "1875/1875 [==============================] - 18s 10ms/step - loss: 0.2773 - accuracy: 0.8972\n",
      "Epoch 6/50\n",
      "1875/1875 [==============================] - 18s 10ms/step - loss: 0.2629 - accuracy: 0.9029\n",
      "Epoch 7/50\n",
      "1875/1875 [==============================] - 18s 10ms/step - loss: 0.2497 - accuracy: 0.9052\n",
      "Epoch 8/50\n",
      "1875/1875 [==============================] - 18s 10ms/step - loss: 0.2381 - accuracy: 0.9102\n",
      "Epoch 9/50\n",
      "1875/1875 [==============================] - 18s 10ms/step - loss: 0.2307 - accuracy: 0.9132\n",
      "Epoch 10/50\n",
      "1875/1875 [==============================] - 18s 10ms/step - loss: 0.2173 - accuracy: 0.9186\n",
      "Epoch 11/50\n",
      "1875/1875 [==============================] - 18s 10ms/step - loss: 0.2113 - accuracy: 0.9203\n",
      "Epoch 12/50\n",
      "1875/1875 [==============================] - 19s 10ms/step - loss: 0.2028 - accuracy: 0.9255\n",
      "Epoch 13/50\n",
      "1875/1875 [==============================] - 18s 10ms/step - loss: 0.1963 - accuracy: 0.9266\n",
      "Epoch 14/50\n",
      "1875/1875 [==============================] - 18s 10ms/step - loss: 0.1868 - accuracy: 0.9294\n",
      "Epoch 15/50\n",
      "1875/1875 [==============================] - 18s 10ms/step - loss: 0.1802 - accuracy: 0.9326\n",
      "Epoch 16/50\n",
      "1875/1875 [==============================] - 18s 10ms/step - loss: 0.1747 - accuracy: 0.9343\n",
      "Epoch 17/50\n",
      "1875/1875 [==============================] - 18s 10ms/step - loss: 0.1722 - accuracy: 0.9352\n",
      "Epoch 18/50\n",
      "1875/1875 [==============================] - 18s 10ms/step - loss: 0.1619 - accuracy: 0.9387\n",
      "Epoch 19/50\n",
      "1875/1875 [==============================] - 20s 11ms/step - loss: 0.1578 - accuracy: 0.9403\n",
      "Epoch 20/50\n",
      "1875/1875 [==============================] - 20s 11ms/step - loss: 0.1557 - accuracy: 0.9409\n",
      "Epoch 21/50\n",
      "1875/1875 [==============================] - 20s 11ms/step - loss: 0.1489 - accuracy: 0.9435\n",
      "Epoch 22/50\n",
      "1875/1875 [==============================] - 21s 11ms/step - loss: 0.1455 - accuracy: 0.9449\n",
      "Epoch 23/50\n",
      "1875/1875 [==============================] - 20s 11ms/step - loss: 0.1435 - accuracy: 0.9452\n",
      "Epoch 24/50\n",
      "1875/1875 [==============================] - 21s 11ms/step - loss: 0.1384 - accuracy: 0.9483\n",
      "Epoch 25/50\n",
      "1875/1875 [==============================] - 20s 11ms/step - loss: 0.1334 - accuracy: 0.9490\n",
      "Epoch 26/50\n",
      "1875/1875 [==============================] - 21s 11ms/step - loss: 0.1297 - accuracy: 0.9510\n",
      "Epoch 27/50\n",
      "1875/1875 [==============================] - 20s 11ms/step - loss: 0.1297 - accuracy: 0.9516\n",
      "Epoch 28/50\n",
      "1875/1875 [==============================] - 21s 11ms/step - loss: 0.1238 - accuracy: 0.9542\n",
      "Epoch 29/50\n",
      "1875/1875 [==============================] - 20s 11ms/step - loss: 0.1212 - accuracy: 0.9536\n",
      "Epoch 30/50\n",
      "1875/1875 [==============================] - 22s 12ms/step - loss: 0.1206 - accuracy: 0.9543\n",
      "Epoch 31/50\n",
      "1875/1875 [==============================] - 21s 11ms/step - loss: 0.1155 - accuracy: 0.9564\n",
      "Epoch 32/50\n",
      "1875/1875 [==============================] - 21s 11ms/step - loss: 0.1163 - accuracy: 0.9564\n",
      "Epoch 33/50\n",
      "1875/1875 [==============================] - 20s 11ms/step - loss: 0.1085 - accuracy: 0.9584\n",
      "Epoch 34/50\n",
      "1875/1875 [==============================] - 20s 11ms/step - loss: 0.1082 - accuracy: 0.9598\n",
      "Epoch 35/50\n",
      "1875/1875 [==============================] - 21s 11ms/step - loss: 0.1076 - accuracy: 0.9593\n",
      "Epoch 36/50\n",
      "1875/1875 [==============================] - 20s 11ms/step - loss: 0.1040 - accuracy: 0.9610\n",
      "Epoch 37/50\n",
      "1875/1875 [==============================] - 21s 11ms/step - loss: 0.1004 - accuracy: 0.9625\n",
      "Epoch 38/50\n",
      "1875/1875 [==============================] - 21s 11ms/step - loss: 0.0988 - accuracy: 0.9626\n",
      "Epoch 39/50\n",
      "1875/1875 [==============================] - 20s 11ms/step - loss: 0.0976 - accuracy: 0.9635\n",
      "Epoch 40/50\n",
      "1875/1875 [==============================] - 21s 11ms/step - loss: 0.0938 - accuracy: 0.9651\n",
      "Epoch 41/50\n",
      "1875/1875 [==============================] - 21s 11ms/step - loss: 0.0930 - accuracy: 0.9646\n",
      "Epoch 42/50\n",
      "1875/1875 [==============================] - 20s 11ms/step - loss: 0.0870 - accuracy: 0.9675\n",
      "Epoch 43/50\n",
      "1875/1875 [==============================] - 20s 11ms/step - loss: 0.0938 - accuracy: 0.9646\n",
      "Epoch 44/50\n",
      "1875/1875 [==============================] - 21s 11ms/step - loss: 0.0874 - accuracy: 0.9671\n",
      "Epoch 45/50\n",
      "1875/1875 [==============================] - 20s 11ms/step - loss: 0.0858 - accuracy: 0.9688\n",
      "Epoch 46/50\n",
      "1875/1875 [==============================] - 20s 11ms/step - loss: 0.0879 - accuracy: 0.9671\n",
      "Epoch 47/50\n",
      "1875/1875 [==============================] - 21s 11ms/step - loss: 0.0805 - accuracy: 0.9695\n",
      "Epoch 48/50\n",
      "1875/1875 [==============================] - 21s 11ms/step - loss: 0.0851 - accuracy: 0.9687\n",
      "Epoch 49/50\n",
      "1875/1875 [==============================] - 20s 11ms/step - loss: 0.0786 - accuracy: 0.9701\n",
      "Epoch 50/50\n",
      "1875/1875 [==============================] - 21s 11ms/step - loss: 0.0838 - accuracy: 0.9696\n"
     ]
    },
    {
     "data": {
      "text/plain": [
       "<keras.callbacks.History at 0x2b628550520>"
      ]
     },
     "execution_count": 66,
     "metadata": {},
     "output_type": "execute_result"
    }
   ],
   "source": [
    "model.fit(x_train_scaled,y_train, epochs = 50)"
   ]
  },
  {
   "cell_type": "code",
   "execution_count": 78,
   "metadata": {},
   "outputs": [
    {
     "data": {
      "text/plain": [
       "9"
      ]
     },
     "execution_count": 78,
     "metadata": {},
     "output_type": "execute_result"
    }
   ],
   "source": [
    "np.argmax(model.predict(x_test)[0])"
   ]
  },
  {
   "cell_type": "code",
   "execution_count": 72,
   "metadata": {},
   "outputs": [],
   "source": [
    "classes = ['T-shirt/top', 'Trouser', 'Pullover','Dress','Coat','Sandal','Shirt','Sneaker','Bag','Ankle boot']"
   ]
  },
  {
   "cell_type": "code",
   "execution_count": 81,
   "metadata": {},
   "outputs": [
    {
     "data": {
      "text/plain": [
       "'Sneaker'"
      ]
     },
     "execution_count": 81,
     "metadata": {},
     "output_type": "execute_result"
    }
   ],
   "source": [
    "classes[y_test[9]]"
   ]
  },
  {
   "cell_type": "code",
   "execution_count": 79,
   "metadata": {},
   "outputs": [
    {
     "data": {
      "text/plain": [
       "<matplotlib.image.AxesImage at 0x2b6294509d0>"
      ]
     },
     "execution_count": 79,
     "metadata": {},
     "output_type": "execute_result"
    },
    {
     "data": {
      "image/png": "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\n",
      "text/plain": [
       "<Figure size 432x288 with 1 Axes>"
      ]
     },
     "metadata": {
      "needs_background": "light"
     },
     "output_type": "display_data"
    }
   ],
   "source": [
    "plt.imshow(x_test[0])"
   ]
  },
  {
   "cell_type": "code",
   "execution_count": null,
   "metadata": {},
   "outputs": [],
   "source": []
  }
 ],
 "metadata": {
  "kernelspec": {
   "display_name": "Python 3",
   "language": "python",
   "name": "python3"
  },
  "language_info": {
   "codemirror_mode": {
    "name": "ipython",
    "version": 3
   },
   "file_extension": ".py",
   "mimetype": "text/x-python",
   "name": "python",
   "nbconvert_exporter": "python",
   "pygments_lexer": "ipython3",
   "version": "3.8.5"
  }
 },
 "nbformat": 4,
 "nbformat_minor": 4
}
